{
  "cells": [
    {
      "cell_type": "markdown",
      "metadata": {
        "id": "AeKvFlMOzFJD"
      },
      "source": [
        "#**Comparacion de dos modelos de DL para clasificacion de audio**\n",
        "\n",
        "Se utlilizara el dataset UrbanSound8K cuya descripcion esta en el documento datasets para estos informes\n",
        "\n",
        "El aporte de este estudio:\n",
        " - Poder escoger, de los entrenamientos y evaluaciones, el de mejor rendimiento, usando `callbacks`.\n",
        " - Detener la ejecucion de los entrenamientos y evaluaciones, cuando se degraden los rendimienrtos, usando el modulo `Early`."
      ]
    },
    {
      "cell_type": "markdown",
      "source": [
        "##**Verificacion de la existencia de GPUs y la asignacion a un disipositivo**\n",
        "---"
      ],
      "metadata": {
        "id": "hDfv3vyZHkNF"
      }
    },
    {
      "cell_type": "code",
      "source": [
        "#Prueba de GPU\n",
        "#Verificar fácilmente si la GPU está habilitada ejecutando el siguiente código:\n",
        "import tensorflow as tf\n",
        "tf.test.gpu_device_name()"
      ],
      "metadata": {
        "colab": {
          "base_uri": "https://localhost:8080/",
          "height": 0
        },
        "id": "p3I-oeqGo5xP",
        "outputId": "89c578d6-1ad1-4069-af57-34ac9d6a63c8"
      },
      "execution_count": 1,
      "outputs": [
        {
          "output_type": "execute_result",
          "data": {
            "text/plain": [
              "''"
            ],
            "application/vnd.google.colaboratory.intrinsic+json": {
              "type": "string"
            }
          },
          "metadata": {},
          "execution_count": 1
        }
      ]
    },
    {
      "cell_type": "code",
      "source": [
        "#Listado de dispositivos\n",
        "#Conocer los dispositivos utilizados durante la ejecución \n",
        "#Pueba usando el siguiente código:\n",
        "from tensorflow.python.client import device_lib\n",
        "device_lib.list_local_devices()"
      ],
      "metadata": {
        "colab": {
          "base_uri": "https://localhost:8080/",
          "height": 0
        },
        "id": "vo0zCTWypCYU",
        "outputId": "ebabae18-d3db-44a9-96dd-ab654a51e482"
      },
      "execution_count": 2,
      "outputs": [
        {
          "output_type": "execute_result",
          "data": {
            "text/plain": [
              "[name: \"/device:CPU:0\"\n",
              " device_type: \"CPU\"\n",
              " memory_limit: 268435456\n",
              " locality {\n",
              " }\n",
              " incarnation: 12683071880025352497\n",
              " xla_global_id: -1]"
            ]
          },
          "metadata": {},
          "execution_count": 2
        }
      ]
    },
    {
      "cell_type": "code",
      "source": [
        "#Comprobación de memoria RAM\n",
        "#Para ver los recursos de memoria disponibles para su proceso, escriba el siguiente comando:\n",
        "!cat /proc/meminfo"
      ],
      "metadata": {
        "colab": {
          "base_uri": "https://localhost:8080/",
          "height": 0
        },
        "id": "825qvaXRpNya",
        "outputId": "297af577-3f41-4cc9-b438-4529185ccd76"
      },
      "execution_count": 3,
      "outputs": [
        {
          "output_type": "stream",
          "name": "stdout",
          "text": [
            "MemTotal:       13297200 kB\n",
            "MemFree:         7999672 kB\n",
            "MemAvailable:   12254920 kB\n",
            "Buffers:          336280 kB\n",
            "Cached:          4073644 kB\n",
            "SwapCached:            0 kB\n",
            "Active:           560944 kB\n",
            "Inactive:        4489908 kB\n",
            "Active(anon):        928 kB\n",
            "Inactive(anon):   625744 kB\n",
            "Active(file):     560016 kB\n",
            "Inactive(file):  3864164 kB\n",
            "Unevictable:           0 kB\n",
            "Mlocked:               0 kB\n",
            "SwapTotal:             0 kB\n",
            "SwapFree:              0 kB\n",
            "Dirty:              8928 kB\n",
            "Writeback:             0 kB\n",
            "AnonPages:        640948 kB\n",
            "Mapped:           497136 kB\n",
            "Shmem:              1204 kB\n",
            "KReclaimable:     145036 kB\n",
            "Slab:             175608 kB\n",
            "SReclaimable:     145036 kB\n",
            "SUnreclaim:        30572 kB\n",
            "KernelStack:        5232 kB\n",
            "PageTables:         8096 kB\n",
            "NFS_Unstable:          0 kB\n",
            "Bounce:                0 kB\n",
            "WritebackTmp:          0 kB\n",
            "CommitLimit:     6648600 kB\n",
            "Committed_AS:    3300312 kB\n",
            "VmallocTotal:   34359738367 kB\n",
            "VmallocUsed:       10084 kB\n",
            "VmallocChunk:          0 kB\n",
            "Percpu:             1328 kB\n",
            "HardwareCorrupted:     0 kB\n",
            "AnonHugePages:         0 kB\n",
            "ShmemHugePages:        0 kB\n",
            "ShmemPmdMapped:        0 kB\n",
            "FileHugePages:         0 kB\n",
            "FilePmdMapped:         0 kB\n",
            "CmaTotal:              0 kB\n",
            "CmaFree:               0 kB\n",
            "HugePages_Total:       0\n",
            "HugePages_Free:        0\n",
            "HugePages_Rsvd:        0\n",
            "HugePages_Surp:        0\n",
            "Hugepagesize:       2048 kB\n",
            "Hugetlb:               0 kB\n",
            "DirectMap4k:       88896 kB\n",
            "DirectMap2M:     4102144 kB\n",
            "DirectMap1G:    11534336 kB\n"
          ]
        }
      ]
    },
    {
      "cell_type": "markdown",
      "source": [
        "##**Preprocesamiento** \n",
        "---"
      ],
      "metadata": {
        "id": "9H-zHhxQH5-O"
      }
    },
    {
      "cell_type": "code",
      "execution_count": 4,
      "metadata": {
        "id": "GqVNos-KKzGn"
      },
      "outputs": [],
      "source": [
        "#%% Importamos las librerías que vamos a utilizar\n",
        "import keras\n",
        "from keras.layers import Activation, Dense, Dropout, Conv2D, Flatten, \\\n",
        "MaxPooling2D, BatchNormalization\n",
        "from keras.models import Sequential\n",
        "from keras.optimizers import Adam\n",
        "from keras.models import load_model\n",
        "from keras.callbacks import EarlyStopping, ModelCheckpoint\n",
        "import h5py\n",
        "import librosa\n",
        "import librosa.display\n",
        "import numpy as np\n",
        "import pandas as pd\n",
        "import random\n",
        "import matplotlib.pyplot as plt\n",
        "from sklearn.metrics import confusion_matrix\n",
        "from keras.utils import plot_model"
      ]
    },
    {
      "cell_type": "markdown",
      "source": [
        "**Carga de la carpeta de trabajo de Google Drive, `reconson`, al Google Colab**\n"
      ],
      "metadata": {
        "id": "i84EQ2F-IC0f"
      }
    },
    {
      "cell_type": "code",
      "source": [
        "from google.colab import drive\n",
        "drive.mount('/content/drive')"
      ],
      "metadata": {
        "colab": {
          "base_uri": "https://localhost:8080/",
          "height": 0
        },
        "id": "QtTMPgEx5qNM",
        "outputId": "0e43097c-9c2d-4a2d-bc98-11733e5340c4"
      },
      "execution_count": 5,
      "outputs": [
        {
          "output_type": "stream",
          "name": "stdout",
          "text": [
            "Drive already mounted at /content/drive; to attempt to forcibly remount, call drive.mount(\"/content/drive\", force_remount=True).\n"
          ]
        }
      ]
    },
    {
      "cell_type": "code",
      "source": [
        "cd /content/drive/MyDrive/DrFIIS/2022-2/reconson"
      ],
      "metadata": {
        "colab": {
          "base_uri": "https://localhost:8080/",
          "height": 0
        },
        "id": "C6N8a3Oc6RoM",
        "outputId": "a628ddbe-69e6-4763-89bd-1f59501eb09d"
      },
      "execution_count": 6,
      "outputs": [
        {
          "output_type": "stream",
          "name": "stdout",
          "text": [
            "/content/drive/MyDrive/DrFIIS/2022-2/reconson\n"
          ]
        }
      ]
    },
    {
      "cell_type": "markdown",
      "source": [
        "**El dataset esta en la carpeta `UrbanSound8k`, dentro de la carpeta de trabajo, ya desempaquetada. Se obtendra todos los nombres de los archivos de sonido de cada uno de los folderes.** "
      ],
      "metadata": {
        "id": "Nu4YwzSMJGlF"
      }
    },
    {
      "cell_type": "code",
      "execution_count": 7,
      "metadata": {
        "id": "grLWHH85LQEd"
      },
      "outputs": [],
      "source": [
        "#%% Leemos los datos del archivo csv que viene en el paquete de datos\n",
        "# UrbanSound8K\n",
        "# itertuples() genera un objeto iterador del DataFrame, \n",
        "# devolviendo cada fila como un objeto Pyton Tuple .\n",
        "# Homogenizamos la duracion de los archivos a menor que 2.95 s\n",
        "ruta=\"/content/drive/MyDrive/DrFIIS/2022-2/reconson/\"\n",
        "data = pd.read_csv(ruta+'UrbanSound8K/metadata/UrbanSound8K.csv')\n",
        "v_data=pd.DataFrame(data=None,columns=['slice_file_name','fold',\n",
        "'classID', 'class'])\n",
        "for row in data.itertuples():\n",
        "    if (row.end - row.start) >= 2.95:\n",
        "        if (row.classID != 1) and (row.classID != 3) and (row.classID != 6):\n",
        "            fila=pd.DataFrame([[row.slice_file_name,row.fold,\n",
        "                                row.classID,row._8]],\n",
        "                                columns=['slice_file_name','fold',\n",
        "                                         'classID', 'class'])\n",
        "            v_data=v_data.append(fila,ignore_index=True)\n",
        "\n",
        "data['path']='fold'+data['fold'].astype('str')+'/'+   \\\n",
        "             data['slice_file_name'].astype('str')\n",
        "v_data['path']='fold'+v_data['fold'].astype('str')+'/'+  \\\n",
        "               v_data['slice_file_name'].astype('str')\n",
        "for row in v_data.itertuples():\n",
        "    if row.classID == 7:\n",
        "        columna=pd.Series(int(1), name='classID', index=[row.Index])\n",
        "        v_data.update(columna)\n",
        "    elif row.classID == 8:\n",
        "        columna=pd.Series(int(3), name='classID', index=[row.Index])\n",
        "        v_data.update(columna)\n",
        "    elif row.classID == 9:\n",
        "        columna=pd.Series(int(6), name='classID', index=[row.Index])\n",
        "        v_data.update(columna)"
      ]
    },
    {
      "cell_type": "markdown",
      "source": [
        "**Obtenemos el espectograma de cada uno de los archivos de audio y lo almacenamos en la matriz D**\n",
        "\n",
        "**Se homogenizara la data:**\n",
        "- Archivos de solo 2.95 s de duracion \n",
        "- Del mismo tamaño (128, 128).\n",
        "- Se particiona la data: \n",
        "    - Capacitación: 70%\n",
        "    - Prueba: 15%\n",
        "    - Validación: 15%"
      ],
      "metadata": {
        "id": "QptfgNosKK9s"
      }
    },
    {
      "cell_type": "code",
      "execution_count": 8,
      "metadata": {
        "id": "y3HP-uwzLQBU"
      },
      "outputs": [],
      "source": [
        "#%% Calculamos el espectrograma de los archivos \n",
        "#  los vamos añadiendo a la variable D\n",
        "\n",
        "D=[]\n",
        "for row in v_data.itertuples():   \n",
        "    y,sr=librosa.load(ruta + 'UrbanSound8K/audio/' + row.path,duration=2.95 )\n",
        "    s=librosa.feature.melspectrogram(y=y,sr=sr)\n",
        "    ps=librosa.power_to_db(s)\n",
        "    ps=ps.astype(np.float32)\n",
        "    # Si no tienen tamaño uniforme no se incluye en la variable D\n",
        "    if ps.shape != (128,128):\n",
        "        continue\n",
        "    D.append((ps,row.classID))\n",
        "    \n",
        "random.shuffle(D)\n",
        "\n",
        "D_train=[]\n",
        "D_valid=[]\n",
        "D_test=[]\n",
        "cont_clase=[]\n",
        "# Se genera datos de entrenamiento (train)\n",
        "train_index=int(len(D)*0.7)\n",
        "D_train=D[:train_index]\n",
        "# Se genera datos de validacion (valid)\n",
        "valid_index=int(len(D)*0.15)\n",
        "D_valid=D[train_index:train_index+valid_index+1]\n",
        "# Se genera datos de prueba (test)\n",
        "D_test=D[train_index+valid_index+1:]\n"
      ]
    },
    {
      "cell_type": "markdown",
      "source": [
        "**Se mueven los datos dentro de las matrices particionadas de forma aleatoria, se redimensiona para un mismo tamaño, se normaliza y finalmente se obtienen las respsectivas matrices de datos y vectores de etiqueta o catgoría.**"
      ],
      "metadata": {
        "id": "i-ixA9n4LIQ9"
      }
    },
    {
      "cell_type": "code",
      "execution_count": 9,
      "metadata": {
        "id": "2wE3s-foLP-G"
      },
      "outputs": [],
      "source": [
        "#%% Preparamos el dataset, desordenando las muestras y separándolas en\n",
        "# muestras para entrenar, para evaluar y para testear\n",
        "dataset_train=D_train\n",
        "dataset_valid=D_valid\n",
        "dataset_test=D_test\n",
        "\n",
        "random.shuffle(dataset_train)\n",
        "random.shuffle(dataset_valid)\n",
        "random.shuffle(dataset_test)\n",
        "\n",
        "train=dataset_train\n",
        "valid=dataset_valid\n",
        "test=dataset_test\n",
        "\n",
        "X_train, y_train = zip(*train)\n",
        "X_valid, y_valid = zip(*valid)\n",
        "X_test, y_test = zip(*test)\n",
        "\n",
        "X_train = np.array([x.reshape( (128, 128, 1) ) for x in X_train])\n",
        "X_valid = np.array([x.reshape( (128, 128, 1) ) for x in X_valid])\n",
        "X_test = np.array([x.reshape( (128, 128, 1) ) for x in X_test])\n",
        "\n",
        "# Normalización\n",
        "mean = np.mean(X_train, axis=0)\n",
        "std = np.std(X_train, axis=0)\n",
        "\n",
        "X_train = (X_train - mean)/std\n",
        "X_valid = (X_valid - mean)/std\n",
        "X_test = (X_test - mean)/std\n",
        "\n",
        "y_train = np.array(keras.utils.to_categorical(y_train, 7))\n",
        "y_valid = np.array(keras.utils.to_categorical(y_valid, 7))\n",
        "y_test = np.array(keras.utils.to_categorical(y_test, 7))"
      ]
    },
    {
      "cell_type": "markdown",
      "source": [
        "##**Construccion y compilación del modelo**\n",
        "---"
      ],
      "metadata": {
        "id": "pQbHe0t-MUzE"
      }
    },
    {
      "cell_type": "code",
      "execution_count": 10,
      "metadata": {
        "id": "pGuIql-1LP41"
      },
      "outputs": [],
      "source": [
        "#%% Construimos el modelo propuesto y lo compilamos\n",
        "model = Sequential()\n",
        "input_shape=(128, 128, 1)\n",
        "\n",
        "model.add(Conv2D(24, (5, 5), strides=(1, 1), input_shape=input_shape))\n",
        "model.add(MaxPooling2D((4, 2), strides=(4, 2)))\n",
        "model.add(Activation('relu'))\n",
        "\n",
        "model.add(Conv2D(48, (5, 5), padding=\"valid\"))\n",
        "model.add(MaxPooling2D((4, 2), strides=(4, 2)))\n",
        "model.add(Activation('relu'))\n",
        "\n",
        "model.add(Conv2D(48, (5, 5), padding=\"valid\"))\n",
        "model.add(Activation('relu'))\n",
        "\n",
        "model.add(Flatten())\n",
        "model.add(Dropout(rate=0.5))\n",
        "\n",
        "model.add(Dense(64))\n",
        "model.add(Activation('relu'))\n",
        "model.add(Dropout(rate=0.5))\n",
        "\n",
        "model.add(Dense(7))\n",
        "model.add(Activation('softmax'))\n",
        "\n",
        "adam = Adam(0.0001)\n",
        "\n",
        "model.compile(optimizer=adam, \n",
        "    loss=\"categorical_crossentropy\",\n",
        "    metrics=['accuracy'])"
      ]
    },
    {
      "cell_type": "markdown",
      "source": [
        "##**Entrenamiento del modelo**\n",
        "---"
      ],
      "metadata": {
        "id": "9-xcKFfpPpu4"
      }
    },
    {
      "cell_type": "markdown",
      "source": [
        "**Uso de callback para registrar todas las ejecuciones de entrenamiento y validación, para luego elegir el mas exacto.**\n",
        "\n",
        "**Uso de la opción EarlyStopping para detener la ejecucion del entrenamiento o validación, antes de culminar las epocas, si empieza a degradarse la exactitud o perdida.** \n"
      ],
      "metadata": {
        "id": "F9s_iBUDQADX"
      }
    },
    {
      "cell_type": "code",
      "execution_count": 11,
      "metadata": {
        "colab": {
          "base_uri": "https://localhost:8080/",
          "height": 0
        },
        "id": "jRB8To2ULPwe",
        "outputId": "321101fd-b067-4466-aa07-bf1d1ad502c5"
      },
      "outputs": [
        {
          "output_type": "stream",
          "name": "stdout",
          "text": [
            "Epoch 1/100\n",
            "72/72 [==============================] - ETA: 0s - loss: 1.8506 - accuracy: 0.2278\n",
            "Epoch 1: val_loss improved from inf to 1.68688, saving model to best_model.h5\n",
            "72/72 [==============================] - 85s 1s/step - loss: 1.8506 - accuracy: 0.2278 - val_loss: 1.6869 - val_accuracy: 0.3504\n",
            "Epoch 2/100\n",
            "72/72 [==============================] - ETA: 0s - loss: 1.6766 - accuracy: 0.3244\n",
            "Epoch 2: val_loss improved from 1.68688 to 1.48794, saving model to best_model.h5\n",
            "72/72 [==============================] - 84s 1s/step - loss: 1.6766 - accuracy: 0.3244 - val_loss: 1.4879 - val_accuracy: 0.4219\n",
            "Epoch 3/100\n",
            "72/72 [==============================] - ETA: 0s - loss: 1.5371 - accuracy: 0.3898\n",
            "Epoch 3: val_loss improved from 1.48794 to 1.33023, saving model to best_model.h5\n",
            "72/72 [==============================] - 84s 1s/step - loss: 1.5371 - accuracy: 0.3898 - val_loss: 1.3302 - val_accuracy: 0.5128\n",
            "Epoch 4/100\n",
            "72/72 [==============================] - ETA: 0s - loss: 1.4260 - accuracy: 0.4422\n",
            "Epoch 4: val_loss improved from 1.33023 to 1.23145, saving model to best_model.h5\n",
            "72/72 [==============================] - 86s 1s/step - loss: 1.4260 - accuracy: 0.4422 - val_loss: 1.2315 - val_accuracy: 0.5679\n",
            "Epoch 5/100\n",
            "72/72 [==============================] - ETA: 0s - loss: 1.3529 - accuracy: 0.4842\n",
            "Epoch 5: val_loss improved from 1.23145 to 1.15760, saving model to best_model.h5\n",
            "72/72 [==============================] - 84s 1s/step - loss: 1.3529 - accuracy: 0.4842 - val_loss: 1.1576 - val_accuracy: 0.5904\n",
            "Epoch 6/100\n",
            "72/72 [==============================] - ETA: 0s - loss: 1.2604 - accuracy: 0.5265\n",
            "Epoch 6: val_loss improved from 1.15760 to 1.08869, saving model to best_model.h5\n",
            "72/72 [==============================] - 84s 1s/step - loss: 1.2604 - accuracy: 0.5265 - val_loss: 1.0887 - val_accuracy: 0.6374\n",
            "Epoch 7/100\n",
            "72/72 [==============================] - ETA: 0s - loss: 1.1874 - accuracy: 0.5493\n",
            "Epoch 7: val_loss improved from 1.08869 to 0.98965, saving model to best_model.h5\n",
            "72/72 [==============================] - 84s 1s/step - loss: 1.1874 - accuracy: 0.5493 - val_loss: 0.9897 - val_accuracy: 0.6854\n",
            "Epoch 8/100\n",
            "72/72 [==============================] - ETA: 0s - loss: 1.1032 - accuracy: 0.6071\n",
            "Epoch 8: val_loss improved from 0.98965 to 0.92568, saving model to best_model.h5\n",
            "72/72 [==============================] - 84s 1s/step - loss: 1.1032 - accuracy: 0.6071 - val_loss: 0.9257 - val_accuracy: 0.6987\n",
            "Epoch 9/100\n",
            "72/72 [==============================] - ETA: 0s - loss: 1.0465 - accuracy: 0.6202\n",
            "Epoch 9: val_loss improved from 0.92568 to 0.87201, saving model to best_model.h5\n",
            "72/72 [==============================] - 84s 1s/step - loss: 1.0465 - accuracy: 0.6202 - val_loss: 0.8720 - val_accuracy: 0.7191\n",
            "Epoch 10/100\n",
            "72/72 [==============================] - ETA: 0s - loss: 0.9924 - accuracy: 0.6450\n",
            "Epoch 10: val_loss improved from 0.87201 to 0.79851, saving model to best_model.h5\n",
            "72/72 [==============================] - 84s 1s/step - loss: 0.9924 - accuracy: 0.6450 - val_loss: 0.7985 - val_accuracy: 0.7538\n",
            "Epoch 11/100\n",
            "72/72 [==============================] - ETA: 0s - loss: 0.9443 - accuracy: 0.6643\n",
            "Epoch 11: val_loss did not improve from 0.79851\n",
            "72/72 [==============================] - 87s 1s/step - loss: 0.9443 - accuracy: 0.6643 - val_loss: 0.8055 - val_accuracy: 0.7477\n",
            "Epoch 12/100\n",
            "72/72 [==============================] - ETA: 0s - loss: 0.9184 - accuracy: 0.6770\n",
            "Epoch 12: val_loss improved from 0.79851 to 0.76849, saving model to best_model.h5\n",
            "72/72 [==============================] - 83s 1s/step - loss: 0.9184 - accuracy: 0.6770 - val_loss: 0.7685 - val_accuracy: 0.7753\n",
            "Epoch 13/100\n",
            "72/72 [==============================] - ETA: 0s - loss: 0.8576 - accuracy: 0.7057\n",
            "Epoch 13: val_loss improved from 0.76849 to 0.73326, saving model to best_model.h5\n",
            "72/72 [==============================] - 83s 1s/step - loss: 0.8576 - accuracy: 0.7057 - val_loss: 0.7333 - val_accuracy: 0.7477\n",
            "Epoch 14/100\n",
            "72/72 [==============================] - ETA: 0s - loss: 0.8182 - accuracy: 0.7120\n",
            "Epoch 14: val_loss improved from 0.73326 to 0.64504, saving model to best_model.h5\n",
            "72/72 [==============================] - 84s 1s/step - loss: 0.8182 - accuracy: 0.7120 - val_loss: 0.6450 - val_accuracy: 0.8029\n",
            "Epoch 15/100\n",
            "72/72 [==============================] - ETA: 0s - loss: 0.7989 - accuracy: 0.7289\n",
            "Epoch 15: val_loss improved from 0.64504 to 0.60895, saving model to best_model.h5\n",
            "72/72 [==============================] - 83s 1s/step - loss: 0.7989 - accuracy: 0.7289 - val_loss: 0.6089 - val_accuracy: 0.8315\n",
            "Epoch 16/100\n",
            "72/72 [==============================] - ETA: 0s - loss: 0.7669 - accuracy: 0.7381\n",
            "Epoch 16: val_loss improved from 0.60895 to 0.60342, saving model to best_model.h5\n",
            "72/72 [==============================] - 83s 1s/step - loss: 0.7669 - accuracy: 0.7381 - val_loss: 0.6034 - val_accuracy: 0.8284\n",
            "Epoch 17/100\n",
            "72/72 [==============================] - ETA: 0s - loss: 0.7284 - accuracy: 0.7510\n",
            "Epoch 17: val_loss improved from 0.60342 to 0.56400, saving model to best_model.h5\n",
            "72/72 [==============================] - 83s 1s/step - loss: 0.7284 - accuracy: 0.7510 - val_loss: 0.5640 - val_accuracy: 0.8345\n",
            "Epoch 18/100\n",
            "72/72 [==============================] - ETA: 0s - loss: 0.7046 - accuracy: 0.7659\n",
            "Epoch 18: val_loss improved from 0.56400 to 0.54761, saving model to best_model.h5\n",
            "72/72 [==============================] - 86s 1s/step - loss: 0.7046 - accuracy: 0.7659 - val_loss: 0.5476 - val_accuracy: 0.8437\n",
            "Epoch 19/100\n",
            "72/72 [==============================] - ETA: 0s - loss: 0.6774 - accuracy: 0.7760\n",
            "Epoch 19: val_loss improved from 0.54761 to 0.52570, saving model to best_model.h5\n",
            "72/72 [==============================] - 83s 1s/step - loss: 0.6774 - accuracy: 0.7760 - val_loss: 0.5257 - val_accuracy: 0.8570\n",
            "Epoch 20/100\n",
            "72/72 [==============================] - ETA: 0s - loss: 0.6534 - accuracy: 0.7862\n",
            "Epoch 20: val_loss improved from 0.52570 to 0.50271, saving model to best_model.h5\n",
            "72/72 [==============================] - 83s 1s/step - loss: 0.6534 - accuracy: 0.7862 - val_loss: 0.5027 - val_accuracy: 0.8601\n",
            "Epoch 21/100\n",
            "72/72 [==============================] - ETA: 0s - loss: 0.6536 - accuracy: 0.7821\n",
            "Epoch 21: val_loss improved from 0.50271 to 0.49692, saving model to best_model.h5\n",
            "72/72 [==============================] - 83s 1s/step - loss: 0.6536 - accuracy: 0.7821 - val_loss: 0.4969 - val_accuracy: 0.8529\n",
            "Epoch 22/100\n",
            "72/72 [==============================] - ETA: 0s - loss: 0.6170 - accuracy: 0.7959\n",
            "Epoch 22: val_loss improved from 0.49692 to 0.45212, saving model to best_model.h5\n",
            "72/72 [==============================] - 83s 1s/step - loss: 0.6170 - accuracy: 0.7959 - val_loss: 0.4521 - val_accuracy: 0.8733\n",
            "Epoch 23/100\n",
            "72/72 [==============================] - ETA: 0s - loss: 0.6106 - accuracy: 0.7970\n",
            "Epoch 23: val_loss did not improve from 0.45212\n",
            "72/72 [==============================] - 83s 1s/step - loss: 0.6106 - accuracy: 0.7970 - val_loss: 0.4709 - val_accuracy: 0.8601\n",
            "Epoch 24/100\n",
            "72/72 [==============================] - ETA: 0s - loss: 0.5777 - accuracy: 0.8035\n",
            "Epoch 24: val_loss improved from 0.45212 to 0.43451, saving model to best_model.h5\n",
            "72/72 [==============================] - 83s 1s/step - loss: 0.5777 - accuracy: 0.8035 - val_loss: 0.4345 - val_accuracy: 0.8733\n",
            "Epoch 25/100\n",
            "72/72 [==============================] - ETA: 0s - loss: 0.5535 - accuracy: 0.8138\n",
            "Epoch 25: val_loss improved from 0.43451 to 0.41913, saving model to best_model.h5\n",
            "72/72 [==============================] - 84s 1s/step - loss: 0.5535 - accuracy: 0.8138 - val_loss: 0.4191 - val_accuracy: 0.8754\n",
            "Epoch 26/100\n",
            "72/72 [==============================] - ETA: 0s - loss: 0.5246 - accuracy: 0.8285\n",
            "Epoch 26: val_loss did not improve from 0.41913\n",
            "72/72 [==============================] - 83s 1s/step - loss: 0.5246 - accuracy: 0.8285 - val_loss: 0.4604 - val_accuracy: 0.8560\n",
            "Epoch 27/100\n",
            "72/72 [==============================] - ETA: 0s - loss: 0.5119 - accuracy: 0.8298\n",
            "Epoch 27: val_loss did not improve from 0.41913\n",
            "72/72 [==============================] - 83s 1s/step - loss: 0.5119 - accuracy: 0.8298 - val_loss: 0.4274 - val_accuracy: 0.8723\n",
            "Epoch 28/100\n",
            "72/72 [==============================] - ETA: 0s - loss: 0.5096 - accuracy: 0.8344\n",
            "Epoch 28: val_loss improved from 0.41913 to 0.38670, saving model to best_model.h5\n",
            "72/72 [==============================] - 83s 1s/step - loss: 0.5096 - accuracy: 0.8344 - val_loss: 0.3867 - val_accuracy: 0.8805\n",
            "Epoch 29/100\n",
            "72/72 [==============================] - ETA: 0s - loss: 0.4711 - accuracy: 0.8430\n",
            "Epoch 29: val_loss improved from 0.38670 to 0.36829, saving model to best_model.h5\n",
            "72/72 [==============================] - 83s 1s/step - loss: 0.4711 - accuracy: 0.8430 - val_loss: 0.3683 - val_accuracy: 0.8836\n",
            "Epoch 30/100\n",
            "72/72 [==============================] - ETA: 0s - loss: 0.4668 - accuracy: 0.8484\n",
            "Epoch 30: val_loss improved from 0.36829 to 0.35536, saving model to best_model.h5\n",
            "72/72 [==============================] - 84s 1s/step - loss: 0.4668 - accuracy: 0.8484 - val_loss: 0.3554 - val_accuracy: 0.8938\n",
            "Epoch 31/100\n",
            "72/72 [==============================] - ETA: 0s - loss: 0.4560 - accuracy: 0.8500\n",
            "Epoch 31: val_loss did not improve from 0.35536\n",
            "72/72 [==============================] - 84s 1s/step - loss: 0.4560 - accuracy: 0.8500 - val_loss: 0.3886 - val_accuracy: 0.8774\n",
            "Epoch 32/100\n",
            "72/72 [==============================] - ETA: 0s - loss: 0.4556 - accuracy: 0.8592\n",
            "Epoch 32: val_loss improved from 0.35536 to 0.33754, saving model to best_model.h5\n",
            "72/72 [==============================] - 84s 1s/step - loss: 0.4556 - accuracy: 0.8592 - val_loss: 0.3375 - val_accuracy: 0.8958\n",
            "Epoch 33/100\n",
            "72/72 [==============================] - ETA: 0s - loss: 0.4384 - accuracy: 0.8649\n",
            "Epoch 33: val_loss did not improve from 0.33754\n",
            "72/72 [==============================] - 83s 1s/step - loss: 0.4384 - accuracy: 0.8649 - val_loss: 0.3492 - val_accuracy: 0.8927\n",
            "Epoch 34/100\n",
            "72/72 [==============================] - ETA: 0s - loss: 0.4199 - accuracy: 0.8616\n",
            "Epoch 34: val_loss improved from 0.33754 to 0.32476, saving model to best_model.h5\n",
            "72/72 [==============================] - 84s 1s/step - loss: 0.4199 - accuracy: 0.8616 - val_loss: 0.3248 - val_accuracy: 0.8938\n",
            "Epoch 35/100\n",
            "72/72 [==============================] - ETA: 0s - loss: 0.4073 - accuracy: 0.8601\n",
            "Epoch 35: val_loss did not improve from 0.32476\n",
            "72/72 [==============================] - 83s 1s/step - loss: 0.4073 - accuracy: 0.8601 - val_loss: 0.3452 - val_accuracy: 0.8836\n",
            "Epoch 36/100\n",
            "72/72 [==============================] - ETA: 0s - loss: 0.4051 - accuracy: 0.8734\n",
            "Epoch 36: val_loss improved from 0.32476 to 0.29720, saving model to best_model.h5\n",
            "72/72 [==============================] - 83s 1s/step - loss: 0.4051 - accuracy: 0.8734 - val_loss: 0.2972 - val_accuracy: 0.9060\n",
            "Epoch 37/100\n",
            "72/72 [==============================] - ETA: 0s - loss: 0.3963 - accuracy: 0.8719\n",
            "Epoch 37: val_loss did not improve from 0.29720\n",
            "72/72 [==============================] - 83s 1s/step - loss: 0.3963 - accuracy: 0.8719 - val_loss: 0.3240 - val_accuracy: 0.8927\n",
            "Epoch 38/100\n",
            "72/72 [==============================] - ETA: 0s - loss: 0.3720 - accuracy: 0.8782\n",
            "Epoch 38: val_loss did not improve from 0.29720\n",
            "72/72 [==============================] - 83s 1s/step - loss: 0.3720 - accuracy: 0.8782 - val_loss: 0.3038 - val_accuracy: 0.9060\n",
            "Epoch 39/100\n",
            "72/72 [==============================] - ETA: 0s - loss: 0.3584 - accuracy: 0.8868\n",
            "Epoch 39: val_loss did not improve from 0.29720\n",
            "72/72 [==============================] - 83s 1s/step - loss: 0.3584 - accuracy: 0.8868 - val_loss: 0.3124 - val_accuracy: 0.9009\n",
            "Epoch 40/100\n",
            "72/72 [==============================] - ETA: 0s - loss: 0.3611 - accuracy: 0.8844\n",
            "Epoch 40: val_loss improved from 0.29720 to 0.28742, saving model to best_model.h5\n",
            "72/72 [==============================] - 83s 1s/step - loss: 0.3611 - accuracy: 0.8844 - val_loss: 0.2874 - val_accuracy: 0.9070\n",
            "Epoch 41/100\n",
            "72/72 [==============================] - ETA: 0s - loss: 0.3342 - accuracy: 0.8894\n",
            "Epoch 41: val_loss improved from 0.28742 to 0.26746, saving model to best_model.h5\n",
            "72/72 [==============================] - 84s 1s/step - loss: 0.3342 - accuracy: 0.8894 - val_loss: 0.2675 - val_accuracy: 0.9162\n",
            "Epoch 42/100\n",
            "72/72 [==============================] - ETA: 0s - loss: 0.3397 - accuracy: 0.8837\n",
            "Epoch 42: val_loss did not improve from 0.26746\n",
            "72/72 [==============================] - 83s 1s/step - loss: 0.3397 - accuracy: 0.8837 - val_loss: 0.3044 - val_accuracy: 0.9009\n",
            "Epoch 43/100\n",
            "72/72 [==============================] - ETA: 0s - loss: 0.3322 - accuracy: 0.8971\n",
            "Epoch 43: val_loss did not improve from 0.26746\n",
            "72/72 [==============================] - 83s 1s/step - loss: 0.3322 - accuracy: 0.8971 - val_loss: 0.2867 - val_accuracy: 0.9050\n",
            "Epoch 44/100\n",
            "72/72 [==============================] - ETA: 0s - loss: 0.3135 - accuracy: 0.9010\n",
            "Epoch 44: val_loss did not improve from 0.26746\n",
            "72/72 [==============================] - 83s 1s/step - loss: 0.3135 - accuracy: 0.9010 - val_loss: 0.2705 - val_accuracy: 0.9060\n",
            "Epoch 45/100\n",
            "72/72 [==============================] - ETA: 0s - loss: 0.3177 - accuracy: 0.9012\n",
            "Epoch 45: val_loss improved from 0.26746 to 0.25620, saving model to best_model.h5\n",
            "72/72 [==============================] - 84s 1s/step - loss: 0.3177 - accuracy: 0.9012 - val_loss: 0.2562 - val_accuracy: 0.9203\n",
            "Epoch 46/100\n",
            "72/72 [==============================] - ETA: 0s - loss: 0.3040 - accuracy: 0.9012\n",
            "Epoch 46: val_loss did not improve from 0.25620\n",
            "72/72 [==============================] - 83s 1s/step - loss: 0.3040 - accuracy: 0.9012 - val_loss: 0.2686 - val_accuracy: 0.9040\n",
            "Epoch 47/100\n",
            "72/72 [==============================] - ETA: 0s - loss: 0.3057 - accuracy: 0.9063\n",
            "Epoch 47: val_loss improved from 0.25620 to 0.25259, saving model to best_model.h5\n",
            "72/72 [==============================] - 84s 1s/step - loss: 0.3057 - accuracy: 0.9063 - val_loss: 0.2526 - val_accuracy: 0.9162\n",
            "Epoch 48/100\n",
            "72/72 [==============================] - ETA: 0s - loss: 0.2986 - accuracy: 0.9014\n",
            "Epoch 48: val_loss improved from 0.25259 to 0.24423, saving model to best_model.h5\n",
            "72/72 [==============================] - 84s 1s/step - loss: 0.2986 - accuracy: 0.9014 - val_loss: 0.2442 - val_accuracy: 0.9224\n",
            "Epoch 49/100\n",
            "72/72 [==============================] - ETA: 0s - loss: 0.2958 - accuracy: 0.9076\n",
            "Epoch 49: val_loss did not improve from 0.24423\n",
            "72/72 [==============================] - 84s 1s/step - loss: 0.2958 - accuracy: 0.9076 - val_loss: 0.2527 - val_accuracy: 0.9193\n",
            "Epoch 50/100\n",
            "72/72 [==============================] - ETA: 0s - loss: 0.2901 - accuracy: 0.9085\n",
            "Epoch 50: val_loss did not improve from 0.24423\n",
            "72/72 [==============================] - 84s 1s/step - loss: 0.2901 - accuracy: 0.9085 - val_loss: 0.2482 - val_accuracy: 0.9152\n",
            "Epoch 51/100\n",
            "72/72 [==============================] - ETA: 0s - loss: 0.2725 - accuracy: 0.9089\n",
            "Epoch 51: val_loss improved from 0.24423 to 0.22713, saving model to best_model.h5\n",
            "72/72 [==============================] - 84s 1s/step - loss: 0.2725 - accuracy: 0.9089 - val_loss: 0.2271 - val_accuracy: 0.9203\n",
            "Epoch 52/100\n",
            "72/72 [==============================] - ETA: 0s - loss: 0.2530 - accuracy: 0.9194\n",
            "Epoch 52: val_loss did not improve from 0.22713\n",
            "72/72 [==============================] - 84s 1s/step - loss: 0.2530 - accuracy: 0.9194 - val_loss: 0.2293 - val_accuracy: 0.9244\n",
            "Epoch 53/100\n",
            "72/72 [==============================] - ETA: 0s - loss: 0.2546 - accuracy: 0.9201\n",
            "Epoch 53: val_loss did not improve from 0.22713\n",
            "72/72 [==============================] - 83s 1s/step - loss: 0.2546 - accuracy: 0.9201 - val_loss: 0.2394 - val_accuracy: 0.9224\n",
            "Epoch 54/100\n",
            "72/72 [==============================] - ETA: 0s - loss: 0.2481 - accuracy: 0.9181\n",
            "Epoch 54: val_loss did not improve from 0.22713\n",
            "72/72 [==============================] - 83s 1s/step - loss: 0.2481 - accuracy: 0.9181 - val_loss: 0.2530 - val_accuracy: 0.9162\n",
            "Epoch 55/100\n",
            "72/72 [==============================] - ETA: 0s - loss: 0.2452 - accuracy: 0.9205\n",
            "Epoch 55: val_loss did not improve from 0.22713\n",
            "72/72 [==============================] - 83s 1s/step - loss: 0.2452 - accuracy: 0.9205 - val_loss: 0.2390 - val_accuracy: 0.9183\n",
            "Epoch 56/100\n",
            "72/72 [==============================] - ETA: 0s - loss: 0.2426 - accuracy: 0.9225\n",
            "Epoch 56: val_loss did not improve from 0.22713\n",
            "72/72 [==============================] - 83s 1s/step - loss: 0.2426 - accuracy: 0.9225 - val_loss: 0.2314 - val_accuracy: 0.9173\n",
            "Epoch 57/100\n",
            "72/72 [==============================] - ETA: 0s - loss: 0.2431 - accuracy: 0.9174\n",
            "Epoch 57: val_loss did not improve from 0.22713\n",
            "72/72 [==============================] - 84s 1s/step - loss: 0.2431 - accuracy: 0.9174 - val_loss: 0.2276 - val_accuracy: 0.9213\n",
            "Epoch 58/100\n",
            "72/72 [==============================] - ETA: 0s - loss: 0.2390 - accuracy: 0.9209\n",
            "Epoch 58: val_loss improved from 0.22713 to 0.19920, saving model to best_model.h5\n",
            "72/72 [==============================] - 84s 1s/step - loss: 0.2390 - accuracy: 0.9209 - val_loss: 0.1992 - val_accuracy: 0.9387\n",
            "Epoch 59/100\n",
            "72/72 [==============================] - ETA: 0s - loss: 0.2372 - accuracy: 0.9238\n",
            "Epoch 59: val_loss did not improve from 0.19920\n",
            "72/72 [==============================] - 83s 1s/step - loss: 0.2372 - accuracy: 0.9238 - val_loss: 0.2149 - val_accuracy: 0.9244\n",
            "Epoch 60/100\n",
            "72/72 [==============================] - ETA: 0s - loss: 0.2235 - accuracy: 0.9308\n",
            "Epoch 60: val_loss did not improve from 0.19920\n",
            "72/72 [==============================] - 83s 1s/step - loss: 0.2235 - accuracy: 0.9308 - val_loss: 0.2446 - val_accuracy: 0.9142\n",
            "Epoch 61/100\n",
            "72/72 [==============================] - ETA: 0s - loss: 0.2179 - accuracy: 0.9306\n",
            "Epoch 61: val_loss did not improve from 0.19920\n",
            "72/72 [==============================] - 83s 1s/step - loss: 0.2179 - accuracy: 0.9306 - val_loss: 0.2079 - val_accuracy: 0.9326\n",
            "Epoch 62/100\n",
            "72/72 [==============================] - ETA: 0s - loss: 0.2111 - accuracy: 0.9341\n",
            "Epoch 62: val_loss did not improve from 0.19920\n",
            "72/72 [==============================] - 83s 1s/step - loss: 0.2111 - accuracy: 0.9341 - val_loss: 0.2135 - val_accuracy: 0.9275\n",
            "Epoch 63/100\n",
            "72/72 [==============================] - ETA: 0s - loss: 0.1979 - accuracy: 0.9350\n",
            "Epoch 63: val_loss did not improve from 0.19920\n",
            "72/72 [==============================] - 83s 1s/step - loss: 0.1979 - accuracy: 0.9350 - val_loss: 0.2066 - val_accuracy: 0.9336\n",
            "Epoch 64/100\n",
            "72/72 [==============================] - ETA: 0s - loss: 0.2110 - accuracy: 0.9314\n",
            "Epoch 64: val_loss did not improve from 0.19920\n",
            "72/72 [==============================] - 83s 1s/step - loss: 0.2110 - accuracy: 0.9314 - val_loss: 0.2025 - val_accuracy: 0.9285\n",
            "Epoch 65/100\n",
            "72/72 [==============================] - ETA: 0s - loss: 0.1969 - accuracy: 0.9391\n",
            "Epoch 65: val_loss did not improve from 0.19920\n",
            "72/72 [==============================] - 83s 1s/step - loss: 0.1969 - accuracy: 0.9391 - val_loss: 0.2189 - val_accuracy: 0.9275\n",
            "Epoch 66/100\n",
            "72/72 [==============================] - ETA: 0s - loss: 0.1915 - accuracy: 0.9376\n",
            "Epoch 66: val_loss did not improve from 0.19920\n",
            "72/72 [==============================] - 83s 1s/step - loss: 0.1915 - accuracy: 0.9376 - val_loss: 0.2006 - val_accuracy: 0.9336\n",
            "Epoch 67/100\n",
            "72/72 [==============================] - ETA: 0s - loss: 0.1835 - accuracy: 0.9387\n",
            "Epoch 67: val_loss did not improve from 0.19920\n",
            "72/72 [==============================] - 83s 1s/step - loss: 0.1835 - accuracy: 0.9387 - val_loss: 0.2365 - val_accuracy: 0.9162\n",
            "Epoch 68/100\n",
            "72/72 [==============================] - ETA: 0s - loss: 0.2016 - accuracy: 0.9396\n",
            "Epoch 68: val_loss did not improve from 0.19920\n",
            "72/72 [==============================] - 83s 1s/step - loss: 0.2016 - accuracy: 0.9396 - val_loss: 0.2143 - val_accuracy: 0.9244\n",
            "Epoch 68: early stopping\n"
          ]
        }
      ],
      "source": [
        "#%% Entrenamos el modelo\n",
        "callbacks = [ModelCheckpoint(filepath='best_model.h5', verbose=1,\n",
        "                             monitor='val_loss', save_best_only=True,\n",
        "                             mode='min'),\n",
        "             EarlyStopping(monitor='val_loss', patience=10, verbose=1,\n",
        "                             mode='min')]\n",
        "\n",
        "history = model.fit(\n",
        "    x=X_train,\n",
        "    y=y_train,\n",
        "    epochs=100,\n",
        "    batch_size=64,\n",
        "    validation_data= (X_valid, y_valid),\n",
        "    callbacks=callbacks)"
      ]
    },
    {
      "cell_type": "markdown",
      "source": [
        "**Gráfica de los resultados de exactitud en el entrenamiento y validación.**"
      ],
      "metadata": {
        "id": "JoQsFfQ_RGEa"
      }
    },
    {
      "cell_type": "code",
      "source": [
        "plt.plot(history.history['accuracy'])\n",
        "plt.plot(history.history['val_accuracy'])\n",
        "plt.title('model accuracy')\n",
        "plt.ylabel('accuracy')\n",
        "plt.xlabel('epoch')\n",
        "plt.legend(['train', 'validation'], loc='upper left')\n",
        "plt.show()"
      ],
      "metadata": {
        "colab": {
          "base_uri": "https://localhost:8080/",
          "height": 295
        },
        "id": "zVmy99fu1UDY",
        "outputId": "525db137-bf89-4f1d-df83-42b88ed4dd71"
      },
      "execution_count": 12,
      "outputs": [
        {
          "output_type": "display_data",
          "data": {
            "text/plain": [
              "<Figure size 432x288 with 1 Axes>"
            ],
            "image/png": "[encoded data removed]"
          },
          "metadata": {
            "needs_background": "light"
          }
        }
      ]
    },
    {
      "cell_type": "markdown",
      "source": [
        "**Gráfica de los resultados de pérdidas en el entrenamiento y validación.**"
      ],
      "metadata": {
        "id": "c4ztWlCURdKH"
      }
    },
    {
      "cell_type": "code",
      "source": [
        "# summarize history for loss\n",
        "plt.plot(history.history['loss'])\n",
        "plt.plot(history.history['val_loss'])\n",
        "plt.title('model loss')\n",
        "plt.ylabel('loss')\n",
        "plt.xlabel('epoch')\n",
        "plt.legend(['train', 'validation'], loc='upper left')\n",
        "plt.show()"
      ],
      "metadata": {
        "colab": {
          "base_uri": "https://localhost:8080/",
          "height": 295
        },
        "id": "3TF2cHfr5hIn",
        "outputId": "97d1b0ce-e3aa-4d10-f04e-732dfc0ca365"
      },
      "execution_count": 13,
      "outputs": [
        {
          "output_type": "display_data",
          "data": {
            "text/plain": [
              "<Figure size 432x288 with 1 Axes>"
            ],
            "image/png": "[encoded data removed]"
          },
          "metadata": {
            "needs_background": "light"
          }
        }
      ]
    },
    {
      "cell_type": "markdown",
      "source": [
        "**Eleccion del mejor modelo y su almacenamiento**"
      ],
      "metadata": {
        "id": "aM3G_53FRqIY"
      }
    },
    {
      "cell_type": "code",
      "execution_count": 14,
      "metadata": {
        "id": "hpaC180IyBzN",
        "colab": {
          "base_uri": "https://localhost:8080/",
          "height": 0
        },
        "outputId": "c79e137a-4269-4891-ab8e-6da8f4f74ccf"
      },
      "outputs": [
        {
          "output_type": "stream",
          "name": "stdout",
          "text": [
            "16/16 [==============================] - 5s 275ms/step - loss: 0.2353 - accuracy: 0.9183\n"
          ]
        }
      ],
      "source": [
        "#%% Mejor modelo\n",
        "model_best = load_model('best_model.h5')\n",
        "\n",
        "score = model_best.evaluate(x=X_test,\n",
        "                            y=y_test,\n",
        "                            batch_size=64)"
      ]
    },
    {
      "cell_type": "markdown",
      "source": [
        "#**Segundo modelo de DL con cuatro capas convolucionales**\n",
        "---\n",
        "\n",
        "\n",
        "\n"
      ],
      "metadata": {
        "id": "eLRV3hy-8NV9"
      }
    },
    {
      "cell_type": "markdown",
      "source": [
        "**Construcción del modelo y compilación**"
      ],
      "metadata": {
        "id": "szddq8cD_gRe"
      }
    },
    {
      "cell_type": "code",
      "source": [
        "#%% Construimos el segundo modelo propuesto y lo compilamos\n",
        "model = Sequential()\n",
        "input_shape=(128, 128, 1)\n",
        "\n",
        "model.add(Conv2D(32, (4, 10), padding=\"same\",\n",
        "input_shape=input_shape))\n",
        "model.add(BatchNormalization())\n",
        "model.add(Activation(\"relu\"))\n",
        "model.add(MaxPooling2D())\n",
        "\n",
        "model.add(Conv2D(32, (4, 10), padding=\"same\"))\n",
        "model.add(BatchNormalization())\n",
        "model.add(Activation(\"relu\"))\n",
        "model.add(MaxPooling2D())\n",
        "\n",
        "model.add(Conv2D(32, (4, 10), padding=\"same\"))\n",
        "model.add(BatchNormalization())\n",
        "model.add(Activation(\"relu\"))\n",
        "model.add(MaxPooling2D())\n",
        "\n",
        "model.add(Conv2D(32, (4, 10), padding=\"same\"))\n",
        "model.add(BatchNormalization())\n",
        "model.add(Activation(\"relu\"))\n",
        "model.add(MaxPooling2D())\n",
        "\n",
        "model.add(Flatten())\n",
        "model.add(Dense(64))\n",
        "model.add(BatchNormalization())\n",
        "model.add(Activation(\"relu\"))\n",
        "\n",
        "model.add(Dense(7))\n",
        "model.add(Activation(\"softmax\"))\n",
        "\n",
        "adam = Adam(0.0001)\n",
        "\n",
        "model.compile(\n",
        "   optimizer=adam,\n",
        "   loss=\"categorical_crossentropy\",\n",
        "   metrics=['accuracy'])\n"
      ],
      "metadata": {
        "colab": {
          "base_uri": "https://localhost:8080/",
          "height": 235
        },
        "id": "mgS3r1og7w6T",
        "outputId": "d7990209-4618-4ac1-d11e-f9e304ce6bed"
      },
      "execution_count": 1,
      "outputs": [
        {
          "output_type": "error",
          "ename": "NameError",
          "evalue": "ignored",
          "traceback": [
            "\u001b[0;31m---------------------------------------------------------------------------\u001b[0m",
            "\u001b[0;31mNameError\u001b[0m                                 Traceback (most recent call last)",
            "\u001b[0;32m<ipython-input-1-adb588c758c8>\u001b[0m in \u001b[0;36m<module>\u001b[0;34m\u001b[0m\n\u001b[1;32m      1\u001b[0m \u001b[0;31m#%% Construimos el segundo modelo propuesto y lo compilamos\u001b[0m\u001b[0;34m\u001b[0m\u001b[0;34m\u001b[0m\u001b[0;34m\u001b[0m\u001b[0m\n\u001b[0;32m----> 2\u001b[0;31m \u001b[0mmodel\u001b[0m \u001b[0;34m=\u001b[0m \u001b[0mSequential\u001b[0m\u001b[0;34m(\u001b[0m\u001b[0;34m)\u001b[0m\u001b[0;34m\u001b[0m\u001b[0;34m\u001b[0m\u001b[0m\n\u001b[0m\u001b[1;32m      3\u001b[0m \u001b[0minput_shape\u001b[0m\u001b[0;34m=\u001b[0m\u001b[0;34m(\u001b[0m\u001b[0;36m128\u001b[0m\u001b[0;34m,\u001b[0m \u001b[0;36m128\u001b[0m\u001b[0;34m,\u001b[0m \u001b[0;36m1\u001b[0m\u001b[0;34m)\u001b[0m\u001b[0;34m\u001b[0m\u001b[0;34m\u001b[0m\u001b[0m\n\u001b[1;32m      4\u001b[0m model.add(Conv2D(32, (4, 10), padding=\"same\",\n\u001b[1;32m      5\u001b[0m input_shape=input_shape))\n",
            "\u001b[0;31mNameError\u001b[0m: name 'Sequential' is not defined"
          ]
        }
      ]
    },
    {
      "cell_type": "markdown",
      "source": [
        "**Entrenamiento del modelo**"
      ],
      "metadata": {
        "id": "6GgSMScZ_rBm"
      }
    },
    {
      "cell_type": "code",
      "execution_count": 15,
      "metadata": {
        "id": "ewRBpDx6yBnh",
        "colab": {
          "base_uri": "https://localhost:8080/",
          "height": 0
        },
        "outputId": "e611981b-65cc-47a7-bb0a-302a22b07747"
      },
      "outputs": [
        {
          "output_type": "stream",
          "name": "stdout",
          "text": [
            "Epoch 1/50\n",
            "70/72 [============================>.] - ETA: 0s - loss: 0.1344 - accuracy: 0.9549\n",
            "Epoch 1: val_loss improved from inf to 0.25936, saving model to best_model.h5\n",
            "72/72 [==============================] - 2s 22ms/step - loss: 0.1330 - accuracy: 0.9555 - val_loss: 0.2594 - val_accuracy: 0.9326\n",
            "Epoch 2/50\n",
            "70/72 [============================>.] - ETA: 0s - loss: 0.1289 - accuracy: 0.9587\n",
            "Epoch 2: val_loss did not improve from 0.25936\n",
            "72/72 [==============================] - 1s 20ms/step - loss: 0.1291 - accuracy: 0.9582 - val_loss: 0.2809 - val_accuracy: 0.9234\n",
            "Epoch 3/50\n",
            "70/72 [============================>.] - ETA: 0s - loss: 0.1365 - accuracy: 0.9567\n",
            "Epoch 3: val_loss did not improve from 0.25936\n",
            "72/72 [==============================] - 1s 20ms/step - loss: 0.1363 - accuracy: 0.9564 - val_loss: 0.2830 - val_accuracy: 0.9326\n",
            "Epoch 4/50\n",
            "70/72 [============================>.] - ETA: 0s - loss: 0.1366 - accuracy: 0.9569\n",
            "Epoch 4: val_loss did not improve from 0.25936\n",
            "72/72 [==============================] - 1s 20ms/step - loss: 0.1374 - accuracy: 0.9569 - val_loss: 0.2687 - val_accuracy: 0.9265\n",
            "Epoch 5/50\n",
            "70/72 [============================>.] - ETA: 0s - loss: 0.1238 - accuracy: 0.9609\n",
            "Epoch 5: val_loss improved from 0.25936 to 0.24848, saving model to best_model.h5\n",
            "72/72 [==============================] - 1s 20ms/step - loss: 0.1254 - accuracy: 0.9601 - val_loss: 0.2485 - val_accuracy: 0.9346\n",
            "Epoch 6/50\n",
            "70/72 [============================>.] - ETA: 0s - loss: 0.1304 - accuracy: 0.9583\n",
            "Epoch 6: val_loss did not improve from 0.24848\n",
            "72/72 [==============================] - 1s 20ms/step - loss: 0.1289 - accuracy: 0.9590 - val_loss: 0.2516 - val_accuracy: 0.9295\n",
            "Epoch 7/50\n",
            "70/72 [============================>.] - ETA: 0s - loss: 0.1391 - accuracy: 0.9556\n",
            "Epoch 7: val_loss did not improve from 0.24848\n",
            "72/72 [==============================] - 1s 20ms/step - loss: 0.1402 - accuracy: 0.9549 - val_loss: 0.2615 - val_accuracy: 0.9285\n",
            "Epoch 8/50\n",
            "70/72 [============================>.] - ETA: 0s - loss: 0.1115 - accuracy: 0.9658\n",
            "Epoch 8: val_loss did not improve from 0.24848\n",
            "72/72 [==============================] - 1s 20ms/step - loss: 0.1109 - accuracy: 0.9661 - val_loss: 0.2750 - val_accuracy: 0.9326\n",
            "Epoch 9/50\n",
            "70/72 [============================>.] - ETA: 0s - loss: 0.1259 - accuracy: 0.9587\n",
            "Epoch 9: val_loss did not improve from 0.24848\n",
            "72/72 [==============================] - 1s 20ms/step - loss: 0.1266 - accuracy: 0.9586 - val_loss: 0.2533 - val_accuracy: 0.9346\n",
            "Epoch 10/50\n",
            "70/72 [============================>.] - ETA: 0s - loss: 0.1497 - accuracy: 0.9487\n",
            "Epoch 10: val_loss improved from 0.24848 to 0.24465, saving model to best_model.h5\n",
            "72/72 [==============================] - 1s 20ms/step - loss: 0.1481 - accuracy: 0.9494 - val_loss: 0.2446 - val_accuracy: 0.9346\n",
            "Epoch 11/50\n",
            "70/72 [============================>.] - ETA: 0s - loss: 0.1205 - accuracy: 0.9618\n",
            "Epoch 11: val_loss improved from 0.24465 to 0.24068, saving model to best_model.h5\n",
            "72/72 [==============================] - 1s 21ms/step - loss: 0.1192 - accuracy: 0.9625 - val_loss: 0.2407 - val_accuracy: 0.9346\n",
            "Epoch 12/50\n",
            "70/72 [============================>.] - ETA: 0s - loss: 0.1199 - accuracy: 0.9605\n",
            "Epoch 12: val_loss did not improve from 0.24068\n",
            "72/72 [==============================] - 1s 20ms/step - loss: 0.1212 - accuracy: 0.9601 - val_loss: 0.2662 - val_accuracy: 0.9295\n",
            "Epoch 13/50\n",
            "70/72 [============================>.] - ETA: 0s - loss: 0.1178 - accuracy: 0.9643\n",
            "Epoch 13: val_loss did not improve from 0.24068\n",
            "72/72 [==============================] - 1s 20ms/step - loss: 0.1172 - accuracy: 0.9647 - val_loss: 0.2809 - val_accuracy: 0.9203\n",
            "Epoch 14/50\n",
            "70/72 [============================>.] - ETA: 0s - loss: 0.1149 - accuracy: 0.9638\n",
            "Epoch 14: val_loss did not improve from 0.24068\n",
            "72/72 [==============================] - 1s 20ms/step - loss: 0.1158 - accuracy: 0.9634 - val_loss: 0.2822 - val_accuracy: 0.9254\n",
            "Epoch 15/50\n",
            "70/72 [============================>.] - ETA: 0s - loss: 0.1086 - accuracy: 0.9674\n",
            "Epoch 15: val_loss did not improve from 0.24068\n",
            "72/72 [==============================] - 1s 20ms/step - loss: 0.1078 - accuracy: 0.9676 - val_loss: 0.2646 - val_accuracy: 0.9295\n",
            "Epoch 16/50\n",
            "70/72 [============================>.] - ETA: 0s - loss: 0.0988 - accuracy: 0.9685\n",
            "Epoch 16: val_loss did not improve from 0.24068\n",
            "72/72 [==============================] - 1s 20ms/step - loss: 0.0987 - accuracy: 0.9685 - val_loss: 0.2530 - val_accuracy: 0.9346\n",
            "Epoch 17/50\n",
            "70/72 [============================>.] - ETA: 0s - loss: 0.1113 - accuracy: 0.9658\n",
            "Epoch 17: val_loss did not improve from 0.24068\n",
            "72/72 [==============================] - 1s 20ms/step - loss: 0.1114 - accuracy: 0.9656 - val_loss: 0.2686 - val_accuracy: 0.9377\n",
            "Epoch 18/50\n",
            "70/72 [============================>.] - ETA: 0s - loss: 0.1191 - accuracy: 0.9605\n",
            "Epoch 18: val_loss did not improve from 0.24068\n",
            "72/72 [==============================] - 1s 21ms/step - loss: 0.1190 - accuracy: 0.9606 - val_loss: 0.2760 - val_accuracy: 0.9305\n",
            "Epoch 19/50\n",
            "70/72 [============================>.] - ETA: 0s - loss: 0.1086 - accuracy: 0.9621\n",
            "Epoch 19: val_loss improved from 0.24068 to 0.24028, saving model to best_model.h5\n",
            "72/72 [==============================] - 1s 20ms/step - loss: 0.1085 - accuracy: 0.9621 - val_loss: 0.2403 - val_accuracy: 0.9418\n",
            "Epoch 20/50\n",
            "70/72 [============================>.] - ETA: 0s - loss: 0.0989 - accuracy: 0.9683\n",
            "Epoch 20: val_loss did not improve from 0.24028\n",
            "72/72 [==============================] - 1s 20ms/step - loss: 0.0985 - accuracy: 0.9685 - val_loss: 0.2744 - val_accuracy: 0.9356\n",
            "Epoch 21/50\n",
            "70/72 [============================>.] - ETA: 0s - loss: 0.1093 - accuracy: 0.9627\n",
            "Epoch 21: val_loss did not improve from 0.24028\n",
            "72/72 [==============================] - 1s 20ms/step - loss: 0.1080 - accuracy: 0.9634 - val_loss: 0.3082 - val_accuracy: 0.9224\n",
            "Epoch 22/50\n",
            "70/72 [============================>.] - ETA: 0s - loss: 0.1018 - accuracy: 0.9656\n",
            "Epoch 22: val_loss did not improve from 0.24028\n",
            "72/72 [==============================] - 1s 20ms/step - loss: 0.1019 - accuracy: 0.9656 - val_loss: 0.2630 - val_accuracy: 0.9295\n",
            "Epoch 23/50\n",
            "70/72 [============================>.] - ETA: 0s - loss: 0.1028 - accuracy: 0.9650\n",
            "Epoch 23: val_loss did not improve from 0.24028\n",
            "72/72 [==============================] - 1s 20ms/step - loss: 0.1026 - accuracy: 0.9652 - val_loss: 0.2619 - val_accuracy: 0.9397\n",
            "Epoch 24/50\n",
            "70/72 [============================>.] - ETA: 0s - loss: 0.0960 - accuracy: 0.9679\n",
            "Epoch 24: val_loss did not improve from 0.24028\n",
            "72/72 [==============================] - 1s 20ms/step - loss: 0.0960 - accuracy: 0.9676 - val_loss: 0.2615 - val_accuracy: 0.9356\n",
            "Epoch 25/50\n",
            "70/72 [============================>.] - ETA: 0s - loss: 0.1016 - accuracy: 0.9685\n",
            "Epoch 25: val_loss did not improve from 0.24028\n",
            "72/72 [==============================] - 1s 20ms/step - loss: 0.1008 - accuracy: 0.9689 - val_loss: 0.2601 - val_accuracy: 0.9356\n",
            "Epoch 26/50\n",
            "70/72 [============================>.] - ETA: 0s - loss: 0.0952 - accuracy: 0.9712\n",
            "Epoch 26: val_loss did not improve from 0.24028\n",
            "72/72 [==============================] - 1s 20ms/step - loss: 0.0947 - accuracy: 0.9713 - val_loss: 0.2765 - val_accuracy: 0.9285\n",
            "Epoch 27/50\n",
            "70/72 [============================>.] - ETA: 0s - loss: 0.0958 - accuracy: 0.9714\n",
            "Epoch 27: val_loss did not improve from 0.24028\n",
            "72/72 [==============================] - 1s 20ms/step - loss: 0.0953 - accuracy: 0.9720 - val_loss: 0.2810 - val_accuracy: 0.9244\n",
            "Epoch 28/50\n",
            "70/72 [============================>.] - ETA: 0s - loss: 0.0897 - accuracy: 0.9712\n",
            "Epoch 28: val_loss did not improve from 0.24028\n",
            "72/72 [==============================] - 1s 20ms/step - loss: 0.0897 - accuracy: 0.9711 - val_loss: 0.2858 - val_accuracy: 0.9224\n",
            "Epoch 29/50\n",
            "69/72 [===========================>..] - ETA: 0s - loss: 0.0912 - accuracy: 0.9703\n",
            "Epoch 29: val_loss did not improve from 0.24028\n",
            "72/72 [==============================] - 2s 21ms/step - loss: 0.0905 - accuracy: 0.9707 - val_loss: 0.2752 - val_accuracy: 0.9265\n",
            "Epoch 29: early stopping\n"
          ]
        }
      ],
      "source": [
        "# Entrenando el segundo modelo\n",
        "#%% Entrenamos el modelo\n",
        "callbacks = [ModelCheckpoint(filepath='best_model.h5', verbose=1,\n",
        "                              monitor='val_loss', save_best_only=True,\n",
        "                              mode='min'),\n",
        "             EarlyStopping(monitor='val_loss', patience=10, verbose=1,\n",
        "                              mode='min')]\n",
        "\n",
        "history = model.fit(\n",
        "    x=X_train,\n",
        "    y=y_train,\n",
        "    epochs=50,\n",
        "    batch_size=64,\n",
        "    validation_data= (X_valid, y_valid),\n",
        "    callbacks=callbacks)"
      ]
    },
    {
      "cell_type": "markdown",
      "source": [
        "**Grafica de la exactitud por epocas**"
      ],
      "metadata": {
        "id": "SvtBmWxW_y7w"
      }
    },
    {
      "cell_type": "code",
      "source": [
        "plt.plot(history.history['accuracy'])\n",
        "plt.plot(history.history['val_accuracy'])\n",
        "plt.title('model accuracy')\n",
        "plt.ylabel('accuracy')\n",
        "plt.xlabel('epoch')\n",
        "plt.legend(['train', 'validation'], loc='upper left')\n",
        "plt.show()"
      ],
      "metadata": {
        "colab": {
          "base_uri": "https://localhost:8080/",
          "height": 295
        },
        "id": "DEWNLEao1dUG",
        "outputId": "e5f9b583-125f-48b9-e494-74f0f7ee2b2a"
      },
      "execution_count": 16,
      "outputs": [
        {
          "output_type": "display_data",
          "data": {
            "text/plain": [
              "<Figure size 432x288 with 1 Axes>"
            ],
            "image/png": "[encoded data removed]"
          },
          "metadata": {
            "needs_background": "light"
          }
        }
      ]
    },
    {
      "cell_type": "markdown",
      "source": [
        "**Grafica de las perdidas por epocas**"
      ],
      "metadata": {
        "id": "WqwopcrW_7p9"
      }
    },
    {
      "cell_type": "code",
      "source": [
        "# summarize history for loss\n",
        "plt.plot(history.history['loss'])\n",
        "plt.plot(history.history['val_loss'])\n",
        "plt.title('model loss')\n",
        "plt.ylabel('loss')\n",
        "plt.xlabel('epoch')\n",
        "plt.legend(['train', 'test'], loc='upper left')\n",
        "plt.show()"
      ],
      "metadata": {
        "colab": {
          "base_uri": "https://localhost:8080/",
          "height": 295
        },
        "id": "Ws7sz8Sg5chQ",
        "outputId": "9aca2a22-26a9-4385-eae7-1d44c76c8f47"
      },
      "execution_count": 19,
      "outputs": [
        {
          "output_type": "display_data",
          "data": {
            "text/plain": [
              "<Figure size 432x288 with 1 Axes>"
            ],
            "image/png": "[encoded data removed]"
          },
          "metadata": {
            "needs_background": "light"
          }
        }
      ]
    },
    {
      "cell_type": "markdown",
      "source": [
        "**Elección del mejor modelo**"
      ],
      "metadata": {
        "id": "jLDa3yGGAAVo"
      }
    },
    {
      "cell_type": "code",
      "execution_count": 20,
      "metadata": {
        "id": "U639KrxRyBbz",
        "colab": {
          "base_uri": "https://localhost:8080/",
          "height": 0
        },
        "outputId": "755a215b-90c8-4469-c5ba-d6f85ff79fee"
      },
      "outputs": [
        {
          "output_type": "stream",
          "name": "stdout",
          "text": [
            "16/16 [==============================] - 0s 9ms/step - loss: 0.1903 - accuracy: 0.9418\n"
          ]
        }
      ],
      "source": [
        "#%% Mejor modelo\n",
        "model_best = load_model('best_model.h5')\n",
        "\n",
        "score = model_best.evaluate(x=X_test,\n",
        "                            y=y_test,\n",
        "                            batch_size=64)"
      ]
    },
    {
      "cell_type": "code",
      "execution_count": null,
      "metadata": {
        "id": "5uAYcBaXyBLe"
      },
      "outputs": [],
      "source": []
    }
  ],
  "metadata": {
    "accelerator": "GPU",
    "colab": {
      "provenance": []
    },
    "gpuClass": "standard",
    "kernelspec": {
      "display_name": "Python 3",
      "name": "python3"
    },
    "language_info": {
      "name": "python"
    }
  },
  "nbformat": 4,
  "nbformat_minor": 0
}